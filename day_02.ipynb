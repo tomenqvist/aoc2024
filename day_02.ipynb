{
 "cells": [
  {
   "cell_type": "markdown",
   "id": "0c5b51c5",
   "metadata": {},
   "source": [
    "## Day 2\n",
    "https://adventofcode.com/2024/day/2"
   ]
  },
  {
   "cell_type": "code",
   "execution_count": 21,
   "id": "2cb4874a",
   "metadata": {},
   "outputs": [
    {
     "name": "stdout",
     "output_type": "stream",
     "text": [
      "['92 94 97 98 97', '26 27 28 31 33 34 37 37', '56 59 60 61 62 65 69', '42 44 46 48 55', '15 18 19 22 21 24 26']\n",
      "['24 27 28 29 32 33', '54 56 58 59 61 64 65 67', '75 77 78 80 82 83 85', '71 74 75 76 78 80 82', '36 38 39 41 44 45']\n",
      "1000\n"
     ]
    }
   ],
   "source": [
    "with open('inputs/d02.txt', 'r') as f:\n",
    "    lines = f.readlines()\n",
    "\n",
    "lines = [line.strip() for line in lines]\n",
    "print(lines[:5])\n",
    "print(lines[-5:])\n",
    "print(len(lines))"
   ]
  },
  {
   "cell_type": "markdown",
   "id": "dbc5cb4f",
   "metadata": {},
   "source": [
    "## Part 1"
   ]
  },
  {
   "cell_type": "code",
   "execution_count": 23,
   "id": "7845a414",
   "metadata": {
    "scrolled": true
   },
   "outputs": [
    {
     "name": "stdout",
     "output_type": "stream",
     "text": [
      "236\n"
     ]
    }
   ],
   "source": [
    "counter = 0\n",
    "\n",
    "def check_if_sorted(l):\n",
    "    is_sorted = False\n",
    "    is_unique = len(l) == len(set(l))\n",
    "    if l == sorted(l) and is_unique:\n",
    "        is_sorted = True\n",
    "    if l == sorted(l, reverse=True) and is_unique:\n",
    "        is_sorted = True\n",
    "    return is_sorted\n",
    "\n",
    "def check_if_safe(l):\n",
    "    is_safe = False\n",
    "    if check_if_sorted(l):\n",
    "        for i in range(len(l) - 1):\n",
    "                left, right = l[i], l[i+1]\n",
    "                is_safe = abs(left-right) > 0 and abs(left-right) <= 3\n",
    "                if not is_safe:\n",
    "                    break\n",
    "    return is_safe\n",
    "\n",
    "\n",
    "for line in lines:\n",
    "    levels = [int(x) for x in line.split()]\n",
    "    is_safe = check_if_safe(levels)\n",
    "    if is_safe:\n",
    "        counter += 1\n",
    "        \n",
    "print(counter)"
   ]
  },
  {
   "cell_type": "markdown",
   "id": "7808aa28",
   "metadata": {},
   "source": [
    "## Part 2"
   ]
  },
  {
   "cell_type": "code",
   "execution_count": 26,
   "id": "1d7ba686",
   "metadata": {},
   "outputs": [
    {
     "name": "stdout",
     "output_type": "stream",
     "text": [
      "308\n"
     ]
    }
   ],
   "source": [
    "counter = 0\n",
    "\n",
    "for line in lines:\n",
    "    levels = [int(x) for x in line.split()]\n",
    "    is_safe = check_if_safe(levels)\n",
    "    \n",
    "    if is_safe:\n",
    "        counter += 1\n",
    "    else:\n",
    "        if check_if_safe(levels[1:]):\n",
    "            counter += 1\n",
    "        elif check_if_safe(levels[:-1]):\n",
    "            counter += 1\n",
    "        else:\n",
    "            for i in range(1, len(levels)):\n",
    "                new_list = levels[:i] + levels[i+1:]\n",
    "                if check_if_safe(new_list):\n",
    "                    counter += 1\n",
    "                    break\n",
    "            \n",
    "print(counter)"
   ]
  }
 ],
 "metadata": {
  "kernelspec": {
   "display_name": "Python 3 (ipykernel)",
   "language": "python",
   "name": "python3"
  },
  "language_info": {
   "codemirror_mode": {
    "name": "ipython",
    "version": 3
   },
   "file_extension": ".py",
   "mimetype": "text/x-python",
   "name": "python",
   "nbconvert_exporter": "python",
   "pygments_lexer": "ipython3",
   "version": "3.11.7"
  }
 },
 "nbformat": 4,
 "nbformat_minor": 5
}
