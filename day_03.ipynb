{
 "cells": [
  {
   "cell_type": "markdown",
   "id": "0c5b51c5",
   "metadata": {},
   "source": [
    "## Day 3\n",
    "https://adventofcode.com/2024/day/3"
   ]
  },
  {
   "cell_type": "code",
   "execution_count": 1,
   "id": "2cb4874a",
   "metadata": {},
   "outputs": [
    {
     "name": "stdout",
     "output_type": "stream",
     "text": [
      "why()}''(!how()\n",
      ",292)what()@*-{\n"
     ]
    }
   ],
   "source": [
    "with open('inputs/d03.txt', 'r') as f:\n",
    "    lines = f.read()\n",
    "\n",
    "print(lines[:15])\n",
    "print(lines[-15:])"
   ]
  },
  {
   "cell_type": "markdown",
   "id": "dbc5cb4f",
   "metadata": {},
   "source": [
    "## Part 1"
   ]
  },
  {
   "cell_type": "code",
   "execution_count": 2,
   "id": "7845a414",
   "metadata": {},
   "outputs": [
    {
     "name": "stdout",
     "output_type": "stream",
     "text": [
      "174561379\n"
     ]
    }
   ],
   "source": [
    "import re\n",
    "\n",
    "total = 0\n",
    "matches = re.findall(r\"mul\\(\\d+,\\s*\\d+\\)\", lines)\n",
    "for m in matches:\n",
    "    numbers = re.findall(r\"\\d+\", m)\n",
    "    total += int(numbers[0]) * int(numbers[1])\n",
    "\n",
    "print(total)"
   ]
  },
  {
   "cell_type": "markdown",
   "id": "7808aa28",
   "metadata": {},
   "source": [
    "## Part 2"
   ]
  },
  {
   "cell_type": "code",
   "execution_count": 3,
   "id": "1d7ba686",
   "metadata": {},
   "outputs": [
    {
     "name": "stdout",
     "output_type": "stream",
     "text": [
      "106921067\n"
     ]
    }
   ],
   "source": [
    "import re\n",
    "\n",
    "matches = re.findall(r\"mul\\(\\d+,\\d+\\)|do\\(\\)|don't\\(\\)\", lines)\n",
    "include = True\n",
    "included_ops = []\n",
    "total = 0\n",
    "for match in matches:\n",
    "    if match == \"do()\":\n",
    "        include = True\n",
    "    elif match == \"don't()\":\n",
    "        include = False\n",
    "    else:\n",
    "         if include:\n",
    "            included_ops.append(match)            \n",
    "\n",
    "for op in included_ops:\n",
    "    numbers = re.findall(r\"\\d+\", op)\n",
    "    total += int(numbers[0]) * int(numbers[1])\n",
    "    \n",
    "print(total)"
   ]
  },
  {
   "cell_type": "code",
   "execution_count": null,
   "id": "fa152164",
   "metadata": {},
   "outputs": [],
   "source": []
  }
 ],
 "metadata": {
  "kernelspec": {
   "display_name": "Python 3 (ipykernel)",
   "language": "python",
   "name": "python3"
  },
  "language_info": {
   "codemirror_mode": {
    "name": "ipython",
    "version": 3
   },
   "file_extension": ".py",
   "mimetype": "text/x-python",
   "name": "python",
   "nbconvert_exporter": "python",
   "pygments_lexer": "ipython3",
   "version": "3.11.7"
  }
 },
 "nbformat": 4,
 "nbformat_minor": 5
}
