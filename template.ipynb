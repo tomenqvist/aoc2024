{
 "cells": [
  {
   "cell_type": "markdown",
   "id": "0c5b51c5",
   "metadata": {},
   "source": [
    "## Day"
   ]
  },
  {
   "cell_type": "code",
   "execution_count": 2,
   "id": "2cb4874a",
   "metadata": {},
   "outputs": [
    {
     "name": "stdout",
     "output_type": "stream",
     "text": [
      "['3   4', '4   3', '2   5', '1   3', '3   9']\n"
     ]
    }
   ],
   "source": [
    "with open('inputs/test.txt', 'r') as f:\n",
    "    lines = f.readlines()\n",
    "\n",
    "lines = [line.strip() for line in lines]\n",
    "print(lines[0:5])"
   ]
  },
  {
   "cell_type": "markdown",
   "id": "dbc5cb4f",
   "metadata": {},
   "source": [
    "## Part 1"
   ]
  },
  {
   "cell_type": "code",
   "execution_count": null,
   "id": "7845a414",
   "metadata": {},
   "outputs": [],
   "source": []
  },
  {
   "cell_type": "markdown",
   "id": "7808aa28",
   "metadata": {},
   "source": [
    "## Part 2"
   ]
  },
  {
   "cell_type": "code",
   "execution_count": null,
   "id": "1d7ba686",
   "metadata": {},
   "outputs": [],
   "source": []
  }
 ],
 "metadata": {
  "kernelspec": {
   "display_name": "Python 3 (ipykernel)",
   "language": "python",
   "name": "python3"
  },
  "language_info": {
   "codemirror_mode": {
    "name": "ipython",
    "version": 3
   },
   "file_extension": ".py",
   "mimetype": "text/x-python",
   "name": "python",
   "nbconvert_exporter": "python",
   "pygments_lexer": "ipython3",
   "version": "3.11.7"
  }
 },
 "nbformat": 4,
 "nbformat_minor": 5
}
