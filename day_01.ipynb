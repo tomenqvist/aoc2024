{
 "cells": [
  {
   "cell_type": "markdown",
   "id": "0c5b51c5",
   "metadata": {},
   "source": [
    "## Day 1"
   ]
  },
  {
   "cell_type": "code",
   "execution_count": 51,
   "id": "2cb4874a",
   "metadata": {},
   "outputs": [
    {
     "name": "stdout",
     "output_type": "stream",
     "text": [
      "46669   36559\n"
     ]
    }
   ],
   "source": [
    "with open('inputs/d01.txt', 'r') as f:\n",
    "    lines = f.readlines()\n",
    "\n",
    "lines = [line.strip() for line in lines]\n",
    "print(lines[0])"
   ]
  },
  {
   "cell_type": "code",
   "execution_count": 52,
   "id": "36426f7a",
   "metadata": {},
   "outputs": [],
   "source": [
    "left = []\n",
    "right = []\n",
    "for line in lines:\n",
    "    part1, part2 = line.split(\"   \")\n",
    "    left.append(part1)\n",
    "    right.append(part2)\n",
    "\n",
    "left.sort()\n",
    "right.sort()"
   ]
  },
  {
   "cell_type": "code",
   "execution_count": 53,
   "id": "575d47c1",
   "metadata": {},
   "outputs": [
    {
     "name": "stdout",
     "output_type": "stream",
     "text": [
      "2375403\n"
     ]
    }
   ],
   "source": [
    "# PART 1\n",
    "\n",
    "total_distance = 0\n",
    "for i in range(len(right)):\n",
    "    distance = abs(int(left[i]) - int(right[i]))\n",
    "    total_distance += distance\n",
    "print(total_distance)"
   ]
  },
  {
   "cell_type": "code",
   "execution_count": 54,
   "id": "1c175eb8",
   "metadata": {},
   "outputs": [
    {
     "name": "stdout",
     "output_type": "stream",
     "text": [
      "23082277\n"
     ]
    }
   ],
   "source": [
    "# PART 2\n",
    "right_dict = {}\n",
    "\n",
    "for num in right:\n",
    "    if num in right_dict:\n",
    "        right_dict[num] += 1\n",
    "    else:\n",
    "        right_dict[num] = 1\n",
    "\n",
    "total_sim_score = 0\n",
    "for num in left:\n",
    "    if num in right_dict:\n",
    "        sim_score = int(num) * int(right_dict[num])\n",
    "    else:\n",
    "        sim_score = 0\n",
    "    total_sim_score += sim_score\n",
    "\n",
    "print(total_sim_score)"
   ]
  },
  {
   "cell_type": "code",
   "execution_count": null,
   "id": "44fccdad",
   "metadata": {},
   "outputs": [],
   "source": []
  }
 ],
 "metadata": {
  "kernelspec": {
   "display_name": "Python 3 (ipykernel)",
   "language": "python",
   "name": "python3"
  },
  "language_info": {
   "codemirror_mode": {
    "name": "ipython",
    "version": 3
   },
   "file_extension": ".py",
   "mimetype": "text/x-python",
   "name": "python",
   "nbconvert_exporter": "python",
   "pygments_lexer": "ipython3",
   "version": "3.11.7"
  }
 },
 "nbformat": 4,
 "nbformat_minor": 5
}
